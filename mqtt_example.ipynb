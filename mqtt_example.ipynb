{
 "cells": [
  {
   "cell_type": "markdown",
   "id": "52b0d79c-ef12-49ca-a341-56dad080c4bd",
   "metadata": {},
   "source": [
    "# MQTT Example\n",
    "### with HiveMQ, paho-mqtt\n",
    "\n",
    "- paho-mqtt version => 1.6.1\n",
    "- something changed in version 2.0.0! (released in 2024)\n",
    "- use version 1.6.1\n",
    "\n",
    "\n",
    "``` powershell\n",
    "pip install paho-mqtt==1.6.1\n",
    "```"
   ]
  },
  {
   "cell_type": "markdown",
   "id": "9a84b5dc-ba81-4ba3-8061-6af8a54db04a",
   "metadata": {},
   "source": [
    "# Publishing Messages"
   ]
  },
  {
   "cell_type": "code",
   "execution_count": 1,
   "id": "fd319f09-0d7f-4e11-895b-1ec5b3ea9584",
   "metadata": {},
   "outputs": [],
   "source": [
    "import paho.mqtt.client as paho\n",
    "from paho import mqtt"
   ]
  },
  {
   "cell_type": "markdown",
   "id": "34c56749-b6ec-43e8-9b6a-101de38a6576",
   "metadata": {},
   "source": [
    "## Create MQTT Client\n",
    "- 클라이언트 인스턴스 생성\n",
    "- TLS 설정 꼭 필요 !\n",
    "- 클라이언트의 계정 정보 필수 !\n",
    "    - 클라이언트 계정 정보는 HiveMQ의 Access Management에서 관리할 수 있음 !"
   ]
  },
  {
   "cell_type": "code",
   "execution_count": 2,
   "id": "3ed89081-2599-4bf5-bcb1-9c4091cf4220",
   "metadata": {},
   "outputs": [],
   "source": [
    "# 클라이언트 인스턴스 생성\n",
    "client = paho.Client(client_id=\"\", userdata=None, protocol=paho.MQTTv5)\n",
    "\n",
    "# TLS 설정 필요 !\n",
    "client.tls_set(tls_version=mqtt.client.ssl.PROTOCOL_TLS)\n",
    "\n",
    "# 클라이언트의 username과 password 설정\n",
    "# 이 유저는 브로커에 등록된 유저여야 함 !\n",
    "# HiveMQ의 Access Management에서 등록 가능 !\n",
    "username = ''\n",
    "password = ''\n",
    "client.username_pw_set(username, password)"
   ]
  },
  {
   "cell_type": "markdown",
   "id": "f148a933-636c-48ff-bd86-005e6de11e7a",
   "metadata": {},
   "source": [
    "## Connect !\n",
    "- 브로커 주소와 포트 번호는 HiveMQ Overview에서 확인 가능"
   ]
  },
  {
   "cell_type": "code",
   "execution_count": 3,
   "id": "5273e543-6afe-4457-88c9-73a39ec012fc",
   "metadata": {},
   "outputs": [
    {
     "data": {
      "text/plain": [
       "0"
      ]
     },
     "execution_count": 3,
     "metadata": {},
     "output_type": "execute_result"
    }
   ],
   "source": [
    "# 브로커에 연결\n",
    "broker_url = \"\"\n",
    "port = 8883\n",
    "client.connect(broker_url, port)"
   ]
  },
  {
   "cell_type": "markdown",
   "id": "3feb0179-6d4e-4083-89be-b39017171dca",
   "metadata": {},
   "source": [
    "## Publish Messages\n",
    "- Topic/Subtopic/SubSubTopic/ ...\n",
    "- Topic/# -> 해당 토픽의 모든 서브토픽을 의미\n",
    "- QoS: Quality of Service -> 0,1,2"
   ]
  },
  {
   "cell_type": "code",
   "execution_count": 4,
   "id": "1ac72f52-8227-4622-b9c9-5a0b60868fb1",
   "metadata": {},
   "outputs": [
    {
     "data": {
      "text/plain": [
       "<paho.mqtt.client.MQTTMessageInfo at 0x1cc27b9dbc0>"
      ]
     },
     "execution_count": 4,
     "metadata": {},
     "output_type": "execute_result"
    }
   ],
   "source": [
    "client.publish(\"test/hello\", payload=\"Hello ! This is MQTT !\", qos=1)"
   ]
  },
  {
   "cell_type": "markdown",
   "id": "5b3f7305-c37c-4b02-99e2-2eb3ea3436b3",
   "metadata": {},
   "source": [
    "## Check !\n",
    "- HiveMQ의 WebClient 상에서 계정으로 로그인 후, 토픽 구독을 확인 후 메시지가 잘 찍히는지 확인 !\n"
   ]
  },
  {
   "cell_type": "markdown",
   "id": "6cb484c3-f915-4d0a-b80a-2301c54bd734",
   "metadata": {},
   "source": [
    "# Subscribing Topics"
   ]
  },
  {
   "cell_type": "markdown",
   "id": "b86205d4-51f1-4fc2-b31d-2a2013d71384",
   "metadata": {},
   "source": [
    "## Create MQTT Client then Set Client ready !\n",
    "- 클라이언트 인스턴스 생성\n",
    "- TLS 설정 꼭 필요 !\n",
    "- 클라이언트의 계정 정보 필수 !\n",
    "    - 클라이언트 계정 정보는 HiveMQ의 Access Management에서 관리할 수 있음 !\n",
    "- 브로커 주소와 포트 번호는 HiveMQ Overview에서 확인 가능"
   ]
  },
  {
   "cell_type": "code",
   "execution_count": 5,
   "id": "7e01ce8a-ddd1-4197-9ea4-9104d0551187",
   "metadata": {},
   "outputs": [],
   "source": [
    "# 클라이언트 인스턴스 생성\n",
    "client = paho.Client(client_id=\"\", userdata=None, protocol=paho.MQTTv5)\n",
    "\n",
    "# TLS 설정 필요 !\n",
    "client.tls_set(tls_version=mqtt.client.ssl.PROTOCOL_TLS)\n",
    "\n",
    "# 클라이언트의 username과 password 설정\n",
    "# 이 유저는 브로커에 등록된 유저여야 함 !\n",
    "# HiveMQ의 Access Management에서 등록 가능 !\n",
    "username = ''\n",
    "password = ''\n",
    "client.username_pw_set(username, password)"
   ]
  },
  {
   "cell_type": "markdown",
   "id": "c059782a-6063-42f5-b8e0-b1daad28e81f",
   "metadata": {},
   "source": [
    "## Message check with callback funcs !"
   ]
  },
  {
   "cell_type": "code",
   "execution_count": 6,
   "id": "9ae090da-e44a-49c9-829c-d6914fc605ee",
   "metadata": {},
   "outputs": [
    {
     "name": "stdout",
     "output_type": "stream",
     "text": [
      "on_subcribe_callback !\n",
      "client: <paho.mqtt.client.Client object at 0x000001CC27BE7DF0>\n",
      "userdata: None\n",
      "mid: 1\n",
      "granted_qos: [<paho.mqtt.reasoncodes.ReasonCodes object at 0x000001CC27C74400>]\n",
      "properties: []\n",
      "on_message_callback !\n",
      "테스트는 성공적!\n",
      "on_message_callback !\n",
      "테스트는 성공적!\n",
      "on_message_callback !\n",
      "테스트는 성공적!\n"
     ]
    },
    {
     "ename": "KeyboardInterrupt",
     "evalue": "",
     "output_type": "error",
     "traceback": [
      "\u001b[1;31m---------------------------------------------------------------------------\u001b[0m",
      "\u001b[1;31mKeyboardInterrupt\u001b[0m                         Traceback (most recent call last)",
      "Cell \u001b[1;32mIn[6], line 21\u001b[0m\n\u001b[0;32m     19\u001b[0m client\u001b[38;5;241m.\u001b[39mconnect(broker_url, port)\n\u001b[0;32m     20\u001b[0m client\u001b[38;5;241m.\u001b[39msubscribe(\u001b[38;5;124m'\u001b[39m\u001b[38;5;124mtest\u001b[39m\u001b[38;5;124m'\u001b[39m, \u001b[38;5;241m1\u001b[39m)\n\u001b[1;32m---> 21\u001b[0m \u001b[43mclient\u001b[49m\u001b[38;5;241;43m.\u001b[39;49m\u001b[43mloop_forever\u001b[49m\u001b[43m(\u001b[49m\u001b[43m)\u001b[49m\n",
      "File \u001b[1;32m~\\anaconda3\\envs\\mqtt\\lib\\site-packages\\paho\\mqtt\\client.py:1756\u001b[0m, in \u001b[0;36mClient.loop_forever\u001b[1;34m(self, timeout, max_packets, retry_first_connection)\u001b[0m\n\u001b[0;32m   1754\u001b[0m rc \u001b[38;5;241m=\u001b[39m MQTT_ERR_SUCCESS\n\u001b[0;32m   1755\u001b[0m \u001b[38;5;28;01mwhile\u001b[39;00m rc \u001b[38;5;241m==\u001b[39m MQTT_ERR_SUCCESS:\n\u001b[1;32m-> 1756\u001b[0m     rc \u001b[38;5;241m=\u001b[39m \u001b[38;5;28;43mself\u001b[39;49m\u001b[38;5;241;43m.\u001b[39;49m\u001b[43m_loop\u001b[49m\u001b[43m(\u001b[49m\u001b[43mtimeout\u001b[49m\u001b[43m)\u001b[49m\n\u001b[0;32m   1757\u001b[0m     \u001b[38;5;66;03m# We don't need to worry about locking here, because we've\u001b[39;00m\n\u001b[0;32m   1758\u001b[0m     \u001b[38;5;66;03m# either called loop_forever() when in single threaded mode, or\u001b[39;00m\n\u001b[0;32m   1759\u001b[0m     \u001b[38;5;66;03m# in multi threaded mode when loop_stop() has been called and\u001b[39;00m\n\u001b[0;32m   1760\u001b[0m     \u001b[38;5;66;03m# so no other threads can access _out_packet or _messages.\u001b[39;00m\n\u001b[0;32m   1761\u001b[0m     \u001b[38;5;28;01mif\u001b[39;00m (\u001b[38;5;28mself\u001b[39m\u001b[38;5;241m.\u001b[39m_thread_terminate \u001b[38;5;129;01mis\u001b[39;00m \u001b[38;5;28;01mTrue\u001b[39;00m\n\u001b[0;32m   1762\u001b[0m         \u001b[38;5;129;01mand\u001b[39;00m \u001b[38;5;28mlen\u001b[39m(\u001b[38;5;28mself\u001b[39m\u001b[38;5;241m.\u001b[39m_out_packet) \u001b[38;5;241m==\u001b[39m \u001b[38;5;241m0\u001b[39m\n\u001b[0;32m   1763\u001b[0m             \u001b[38;5;129;01mand\u001b[39;00m \u001b[38;5;28mlen\u001b[39m(\u001b[38;5;28mself\u001b[39m\u001b[38;5;241m.\u001b[39m_out_messages) \u001b[38;5;241m==\u001b[39m \u001b[38;5;241m0\u001b[39m):\n",
      "File \u001b[1;32m~\\anaconda3\\envs\\mqtt\\lib\\site-packages\\paho\\mqtt\\client.py:1150\u001b[0m, in \u001b[0;36mClient._loop\u001b[1;34m(self, timeout)\u001b[0m\n\u001b[0;32m   1147\u001b[0m     rlist \u001b[38;5;241m=\u001b[39m [\u001b[38;5;28mself\u001b[39m\u001b[38;5;241m.\u001b[39m_sock, \u001b[38;5;28mself\u001b[39m\u001b[38;5;241m.\u001b[39m_sockpairR]\n\u001b[0;32m   1149\u001b[0m \u001b[38;5;28;01mtry\u001b[39;00m:\n\u001b[1;32m-> 1150\u001b[0m     socklist \u001b[38;5;241m=\u001b[39m \u001b[43mselect\u001b[49m\u001b[38;5;241;43m.\u001b[39;49m\u001b[43mselect\u001b[49m\u001b[43m(\u001b[49m\u001b[43mrlist\u001b[49m\u001b[43m,\u001b[49m\u001b[43m \u001b[49m\u001b[43mwlist\u001b[49m\u001b[43m,\u001b[49m\u001b[43m \u001b[49m\u001b[43m[\u001b[49m\u001b[43m]\u001b[49m\u001b[43m,\u001b[49m\u001b[43m \u001b[49m\u001b[43mtimeout\u001b[49m\u001b[43m)\u001b[49m\n\u001b[0;32m   1151\u001b[0m \u001b[38;5;28;01mexcept\u001b[39;00m \u001b[38;5;167;01mTypeError\u001b[39;00m:\n\u001b[0;32m   1152\u001b[0m     \u001b[38;5;66;03m# Socket isn't correct type, in likelihood connection is lost\u001b[39;00m\n\u001b[0;32m   1153\u001b[0m     \u001b[38;5;28;01mreturn\u001b[39;00m MQTT_ERR_CONN_LOST\n",
      "\u001b[1;31mKeyboardInterrupt\u001b[0m: "
     ]
    }
   ],
   "source": [
    "def on_subscribe(client, userdata, mid, granted_qos, properties=None):\n",
    "    print(f'on_subcribe_callback !')\n",
    "    print(f'client: {client}')\n",
    "    print(f'userdata: {userdata}')\n",
    "    print(f'mid: {mid}')\n",
    "    print(f'granted_qos: {granted_qos}')\n",
    "    print(f'properties: {properties}')\n",
    "    \n",
    "def on_message(client, userdata, msg):\n",
    "    print('on_message_callback !')\n",
    "    print(str(msg.payload.decode(\"utf-8\")))\n",
    "\n",
    "client.on_subscribe = on_subscribe\n",
    "client.on_message = on_message\n",
    "\n",
    "# 브로커에 연결\n",
    "broker_url = \"\"\n",
    "port = 8883\n",
    "client.connect(broker_url, port)\n",
    "client.subscribe('test', 1)\n",
    "client.loop_forever()"
   ]
  }
 ],
 "metadata": {
  "kernelspec": {
   "display_name": "Python 3 (ipykernel)",
   "language": "python",
   "name": "python3"
  },
  "language_info": {
   "codemirror_mode": {
    "name": "ipython",
    "version": 3
   },
   "file_extension": ".py",
   "mimetype": "text/x-python",
   "name": "python",
   "nbconvert_exporter": "python",
   "pygments_lexer": "ipython3",
   "version": "3.10.11"
  }
 },
 "nbformat": 4,
 "nbformat_minor": 5
}
